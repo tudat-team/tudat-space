{
 "cells": [
  {
   "cell_type": "markdown",
   "id": "c28e1968",
   "metadata": {
    "tags": []
   },
   "source": [
    "# Asteroid orbit optimization with PyGMO - Design Space Exploration\n",
    "Copyright (c) 2010-2022, Delft University of Technology. All rights reserved. This file is part of the Tudat. Redistribution  and use in source and binary forms, with or without modification, are permitted exclusively under the terms of the Modified BSD license. You should have received a copy of the license with this file. If not, please or visit: http://tudat.tudelft.nl/LICENSE.\n",
    "\n",
    "## Context\n",
    "This tutorial is the second part of the Asteroid Orbit Optimization example. **This page reuses the** [Custom environment](https://tudat-space.readthedocs.io/en/latest/_src_getting_started/_src_examples/notebooks/pygmo/asteroid_orbit_optimization/aoo_custom_environment.html) **part of the example, without the explanation, after which a Design Space Exploration (DSE) is done**. The DSE is collection of methods with which an optimization problem can be analyzed, and better understood, without having to execute an optimization or test randomly.\n",
    "\n",
    "## Problem definition\n",
    "\n",
    "The 4 design variables are:\n",
    "\n",
    "- initial values of the semi-major axis.\n",
    "- initial eccentricity.\n",
    "- initial inclination.\n",
    "- initial longitude of the ascending node.\n",
    " \n",
    "The 2 objectives are:\n",
    "\n",
    "- good coverage (maximizing the mean value of the absolute longitude w.r.t. Itokawa over the full propagation).\n",
    "- good resolution (the mean value of the distance should be minimized).\n",
    " \n",
    "The constraints are set on the altitude: all the sets of design variables leading to an orbit.\n",
    "\n",
    "#### NOTE\n",
    "It is assumed that the reader of this tutorial is already familiar with the content of [this basic PyGMO tutorial](https://tudat-space.readthedocs.io/en/latest/_src_advanced_topics/optimization_pygmo.html). The full PyGMO documentation is available [on this website](https://esa.github.io/pygmo2/index.html). Be careful to read the\n",
    "correct the documentation webpage (there is also a similar one for previous yet now outdated versions [here](https://esa.github.io/pygmo/index.html); as you can see, they can easily be confused).\n",
    "PyGMO is the Python counterpart of [PAGMO](https://esa.github.io/pagmo2/index.html)."
   ]
  },
  {
   "cell_type": "markdown",
   "id": "9178ad22",
   "metadata": {},
   "source": [
    "## Import statements"
   ]
  },
  {
   "cell_type": "code",
   "execution_count": 3,
   "id": "d41ceb86",
   "metadata": {
    "pycharm": {
     "is_executing": true
    }
   },
   "outputs": [
    {
     "ename": "ModuleNotFoundError",
     "evalue": "No module named 'tudatpy'",
     "output_type": "error",
     "traceback": [
      "\u001b[0;31m---------------------------------------------------------------------------\u001b[0m",
      "\u001b[0;31mModuleNotFoundError\u001b[0m                       Traceback (most recent call last)",
      "\u001b[0;32m/var/folders/z9/pt4r2zk96vq8vgmj_7h4zpwh0000gn/T/ipykernel_26833/299968413.py\u001b[0m in \u001b[0;36m<module>\u001b[0;34m\u001b[0m\n\u001b[1;32m      9\u001b[0m \u001b[0;34m\u001b[0m\u001b[0m\n\u001b[1;32m     10\u001b[0m \u001b[0;31m# Load tudatpy modules\u001b[0m\u001b[0;34m\u001b[0m\u001b[0;34m\u001b[0m\u001b[0;34m\u001b[0m\u001b[0m\n\u001b[0;32m---> 11\u001b[0;31m \u001b[0;32mfrom\u001b[0m \u001b[0mtudatpy\u001b[0m\u001b[0;34m.\u001b[0m\u001b[0mio\u001b[0m \u001b[0;32mimport\u001b[0m \u001b[0msave2txt\u001b[0m\u001b[0;34m\u001b[0m\u001b[0;34m\u001b[0m\u001b[0m\n\u001b[0m\u001b[1;32m     12\u001b[0m \u001b[0;32mfrom\u001b[0m \u001b[0mtudatpy\u001b[0m\u001b[0;34m.\u001b[0m\u001b[0mkernel\u001b[0m \u001b[0;32mimport\u001b[0m \u001b[0mconstants\u001b[0m\u001b[0;34m\u001b[0m\u001b[0;34m\u001b[0m\u001b[0m\n\u001b[1;32m     13\u001b[0m \u001b[0;32mfrom\u001b[0m \u001b[0mtudatpy\u001b[0m\u001b[0;34m.\u001b[0m\u001b[0mkernel\u001b[0m\u001b[0;34m.\u001b[0m\u001b[0minterface\u001b[0m \u001b[0;32mimport\u001b[0m \u001b[0mspice\u001b[0m\u001b[0;34m\u001b[0m\u001b[0;34m\u001b[0m\u001b[0m\n",
      "\u001b[0;31mModuleNotFoundError\u001b[0m: No module named 'tudatpy'"
     ]
    }
   ],
   "source": [
    "# Load standard modules\n",
    "import os\n",
    "import numpy as np\n",
    "# Uncomment the following to make plots interactive\n",
    "# %matplotlib widget\n",
    "from matplotlib import pyplot as plt\n",
    "from itertools import combinations as comb\n",
    "\n",
    "\n",
    "# Load tudatpy modules\n",
    "from tudatpy.io import save2txt\n",
    "from tudatpy.kernel import constants\n",
    "from tudatpy.kernel.interface import spice\n",
    "from tudatpy.kernel.astro import element_conversion\n",
    "from tudatpy.kernel.astro import frame_conversion\n",
    "from tudatpy.kernel import numerical_simulation\n",
    "from tudatpy.kernel.numerical_simulation import environment_setup\n",
    "from tudatpy.kernel.numerical_simulation import propagation_setup\n",
    "import tudatpy.util as util\n",
    "\n",
    "# Load pygmo library\n",
    "import pygmo as pg\n",
    "\n",
    "current_dir = os.path.abspath('')"
   ]
  },
  {
   "cell_type": "markdown",
   "id": "53fc1f9e-f632-4147-b538-9a270feb5319",
   "metadata": {},
   "source": [
    "## Creation of Custom Environment"
   ]
  },
  {
   "cell_type": "markdown",
   "id": "d8107941-e02d-460e-9e61-bc60b78e7666",
   "metadata": {
    "tags": []
   },
   "source": [
    "### Itokawa rotation settings"
   ]
  },
  {
   "cell_type": "code",
   "execution_count": null,
   "id": "944c25d5",
   "metadata": {
    "pycharm": {
     "is_executing": true
    }
   },
   "outputs": [],
   "source": [
    "def get_itokawa_rotation_settings(itokawa_body_frame_name):\n",
    "    # Definition of initial Itokawa orientation conditions through the pole orientation\n",
    "    pole_declination = np.deg2rad(-66.30)     # Declination\n",
    "    pole_right_ascension = np.deg2rad(90.53)  # Right ascension\n",
    "    meridian_at_epoch = 0.0                   # Meridian\n",
    "\n",
    "    # Define initial Itokawa orientation in inertial frame (equatorial plane)\n",
    "    initial_orientation_j2000 = frame_conversion.inertial_to_body_fixed_rotation_matrix(\n",
    "        pole_declination, pole_right_ascension, meridian_at_epoch)\n",
    "    \n",
    "    # Get initial Itokawa orientation in inertial frame but in the Ecliptic plane\n",
    "    initial_orientation_eclipj2000 = np.matmul(spice.compute_rotation_matrix_between_frames(\n",
    "        \"ECLIPJ2000\", \"J2000\", 0.0), initial_orientation_j2000)\n",
    "\n",
    "    # Manually check the results, if desired\n",
    "    check_results = False\n",
    "    if check_results:\n",
    "        np.set_printoptions(precision=100)\n",
    "        print(initial_orientation_j2000)\n",
    "    \n",
    "        print(initial_orientation_eclipj2000)\n",
    "\n",
    "    # Compute rotation rate\n",
    "    rotation_rate = np.deg2rad(712.143) / constants.JULIAN_DAY\n",
    "\n",
    "    # Set up rotational model for Itokawa with constant angular velocity\n",
    "    return environment_setup.rotation_model.simple(\n",
    "        \"ECLIPJ2000\", itokawa_body_frame_name, initial_orientation_eclipj2000, 0.0, rotation_rate)"
   ]
  },
  {
   "cell_type": "markdown",
   "id": "bffdf146",
   "metadata": {},
   "source": [
    "### Itokawa ephemeris settings"
   ]
  },
  {
   "cell_type": "code",
   "execution_count": null,
   "id": "9bd4ccdf",
   "metadata": {
    "pycharm": {
     "is_executing": true
    }
   },
   "outputs": [],
   "source": [
    "def get_itokawa_ephemeris_settings(sun_gravitational_parameter):\n",
    "    # Define Itokawa initial Kepler elements\n",
    "    itokawa_kepler_elements = np.array([\n",
    "        1.324118017407799 * constants.ASTRONOMICAL_UNIT,\n",
    "        0.2801166461882852,\n",
    "        np.deg2rad(1.621303507642802),\n",
    "        np.deg2rad(162.8147699851312),\n",
    "        np.deg2rad(69.0803904880264),\n",
    "        np.deg2rad(187.6327516838828)])\n",
    "    \n",
    "    # Convert mean anomaly to true anomaly\n",
    "    itokawa_kepler_elements[5] = element_conversion.mean_to_true_anomaly(\n",
    "        eccentricity=itokawa_kepler_elements[1],\n",
    "        mean_anomaly=itokawa_kepler_elements[5])\n",
    "    \n",
    "    # Get epoch of initial Kepler elements (in Julian Days)\n",
    "    kepler_elements_reference_julian_day = 2459000.5\n",
    "    \n",
    "    # Sets new reference epoch for Itokawa ephemerides (different from J2000)\n",
    "    kepler_elements_reference_epoch = (kepler_elements_reference_julian_day - constants.JULIAN_DAY_ON_J2000) \\\n",
    "                                      * constants.JULIAN_DAY\n",
    "    \n",
    "    # Sets the ephemeris model\n",
    "    return environment_setup.ephemeris.keplerian(\n",
    "        itokawa_kepler_elements,\n",
    "        kepler_elements_reference_epoch,\n",
    "        sun_gravitational_parameter,\n",
    "        \"Sun\",\n",
    "        \"ECLIPJ2000\")"
   ]
  },
  {
   "cell_type": "markdown",
   "id": "49ec99b8",
   "metadata": {},
   "source": [
    "### Itokawa gravity field settings"
   ]
  },
  {
   "cell_type": "code",
   "execution_count": null,
   "id": "bbb31c9e",
   "metadata": {
    "pycharm": {
     "is_executing": true
    }
   },
   "outputs": [],
   "source": [
    "def get_itokawa_gravity_field_settings(itokawa_body_fixed_frame, itokawa_radius):\n",
    "    itokawa_gravitational_parameter = 2.36\n",
    "    normalized_cosine_coefficients = np.array([\n",
    "        [1.0, 0.0, 0.0, 0.0, 0.0],\n",
    "        [0.0, 0.0, 0.0, 0.0, 0.0],\n",
    "        [-0.145216, 0.0, 0.219420, 0.0, 0.0],\n",
    "        [0.036115, -0.028139, -0.046894, 0.069022, 0.0],\n",
    "        [0.087852, 0.034069, -0.123263, -0.030673, 0.150282]])\n",
    "    normalized_sine_coefficients = np.array([\n",
    "        [0.0, 0.0, 0.0, 0.0, 0.0],\n",
    "        [0.0, 0.0, 0.0, 0.0, 0.0],\n",
    "        [0.0, 0.0, 0.0, 0.0, 0.0],\n",
    "        [0.0, -0.006137, -0.046894, 0.033976, 0.0],\n",
    "        [0.0, 0.004870, 0.000098, -0.015026, 0.011627]])\n",
    "    return environment_setup.gravity_field.spherical_harmonic(\n",
    "        gravitational_parameter=itokawa_gravitational_parameter,\n",
    "        reference_radius=itokawa_radius,\n",
    "        normalized_cosine_coefficients=normalized_cosine_coefficients,\n",
    "        normalized_sine_coefficients=normalized_sine_coefficients,\n",
    "        associated_reference_frame=itokawa_body_fixed_frame)"
   ]
  },
  {
   "cell_type": "markdown",
   "id": "0b7c5a37",
   "metadata": {},
   "source": [
    "### Itokawa shape settings"
   ]
  },
  {
   "cell_type": "code",
   "execution_count": null,
   "id": "8fb19777",
   "metadata": {
    "pycharm": {
     "is_executing": true
    }
   },
   "outputs": [],
   "source": [
    "def get_itokawa_shape_settings(itokawa_radius):\n",
    "    # Creates spherical shape settings\n",
    "    return environment_setup.shape.spherical(itokawa_radius)"
   ]
  },
  {
   "cell_type": "markdown",
   "id": "a39a9dbe",
   "metadata": {},
   "source": [
    "### Simulation bodies"
   ]
  },
  {
   "cell_type": "code",
   "execution_count": null,
   "id": "ae8c4e73",
   "metadata": {
    "pycharm": {
     "is_executing": true
    }
   },
   "outputs": [],
   "source": [
    "def create_simulation_bodies(itokawa_radius):\n",
    "    ### CELESTIAL BODIES ###\n",
    "    # Define Itokawa body frame name\n",
    "    itokawa_body_frame_name = \"Itokawa_Frame\"\n",
    "\n",
    "    # Create default body settings for selected celestial bodies\n",
    "    bodies_to_create = [\"Sun\", \"Earth\", \"Jupiter\", \"Saturn\", \"Mars\"]\n",
    "\n",
    "    # Create default body settings for bodies_to_create, with \"Earth\"/\"J2000\" as\n",
    "    # global frame origin and orientation. This environment will only be valid\n",
    "    # in the indicated time range [simulation_start_epoch --- simulation_end_epoch]\n",
    "    body_settings = environment_setup.get_default_body_settings(\n",
    "        bodies_to_create,\n",
    "        \"SSB\",\n",
    "        \"ECLIPJ2000\")\n",
    "\n",
    "    # Add Itokawa body\n",
    "    body_settings.add_empty_settings(\"Itokawa\")\n",
    "\n",
    "    # Adds Itokawa settings\n",
    "    # Gravity field\n",
    "    body_settings.get(\"Itokawa\").gravity_field_settings = get_itokawa_gravity_field_settings(itokawa_body_frame_name,\n",
    "                                                                        itokawa_radius)\n",
    "    # Rotational model\n",
    "    body_settings.get(\"Itokawa\").rotation_model_settings = get_itokawa_rotation_settings(itokawa_body_frame_name)\n",
    "    # Ephemeris\n",
    "    body_settings.get(\"Itokawa\").ephemeris_settings = get_itokawa_ephemeris_settings(\n",
    "        spice.get_body_gravitational_parameter( 'Sun') )\n",
    "    # Shape (spherical)\n",
    "    body_settings.get(\"Itokawa\").shape_settings = get_itokawa_shape_settings(itokawa_radius)\n",
    "    # Create system of selected bodies\n",
    "    bodies = environment_setup.create_system_of_bodies(body_settings)\n",
    "\n",
    "    ### VEHICLE BODY ###\n",
    "    # Create vehicle object\n",
    "    bodies.create_empty_body(\"Spacecraft\")\n",
    "    bodies.get(\"Spacecraft\").set_constant_mass(400.0)\n",
    "\n",
    "    # Create radiation pressure settings, and add to vehicle\n",
    "    reference_area_radiation = 4.0\n",
    "    radiation_pressure_coefficient = 1.2\n",
    "    radiation_pressure_settings = environment_setup.radiation_pressure.cannonball(\n",
    "        \"Sun\",\n",
    "        reference_area_radiation,\n",
    "        radiation_pressure_coefficient)\n",
    "    environment_setup.add_radiation_pressure_interface(\n",
    "        bodies,\n",
    "        \"Spacecraft\",\n",
    "        radiation_pressure_settings)\n",
    "\n",
    "    return bodies"
   ]
  },
  {
   "cell_type": "markdown",
   "id": "37d66be0",
   "metadata": {},
   "source": [
    "### Acceleration models"
   ]
  },
  {
   "cell_type": "code",
   "execution_count": null,
   "id": "0e0c029a",
   "metadata": {
    "pycharm": {
     "is_executing": true
    }
   },
   "outputs": [],
   "source": [
    "def get_acceleration_models(bodies_to_propagate, central_bodies, bodies):\n",
    "    # Define accelerations acting on Spacecraft\n",
    "    accelerations_settings_spacecraft = dict(\n",
    "        Sun =     [ propagation_setup.acceleration.cannonball_radiation_pressure(),\n",
    "                    propagation_setup.acceleration.point_mass_gravity() ],\n",
    "        Itokawa = [ propagation_setup.acceleration.spherical_harmonic_gravity(3, 3) ],\n",
    "        Jupiter = [ propagation_setup.acceleration.point_mass_gravity() ],\n",
    "        Saturn =  [ propagation_setup.acceleration.point_mass_gravity() ],\n",
    "        Mars =    [ propagation_setup.acceleration.point_mass_gravity() ],\n",
    "        Earth =   [ propagation_setup.acceleration.point_mass_gravity() ]\n",
    "    )\n",
    "\n",
    "    # Create global accelerations settings dictionary\n",
    "    acceleration_settings = {\"Spacecraft\": accelerations_settings_spacecraft}\n",
    "\n",
    "    # Create acceleration models\n",
    "    return propagation_setup.create_acceleration_models(\n",
    "        bodies,\n",
    "        acceleration_settings,\n",
    "        bodies_to_propagate,\n",
    "        central_bodies)"
   ]
  },
  {
   "cell_type": "markdown",
   "id": "092c8167",
   "metadata": {},
   "source": [
    "### Termination settings"
   ]
  },
  {
   "cell_type": "code",
   "execution_count": 4,
   "id": "9328e34f",
   "metadata": {
    "pycharm": {
     "is_executing": true
    }
   },
   "outputs": [],
   "source": [
    "def get_termination_settings(mission_initial_time, \n",
    "                             mission_duration,\n",
    "                             minimum_distance_from_com,\n",
    "                             maximum_distance_from_com):\n",
    "    # Mission duration\n",
    "    time_termination_settings = propagation_setup.propagator.time_termination(\n",
    "        mission_initial_time + mission_duration,\n",
    "        terminate_exactly_on_final_condition=False\n",
    "    )\n",
    "    # Upper altitude\n",
    "    upper_altitude_termination_settings = propagation_setup.propagator.dependent_variable_termination(\n",
    "        dependent_variable_settings=propagation_setup.dependent_variable.relative_distance('Spacecraft', 'Itokawa'),\n",
    "        limit_value=maximum_distance_from_com,\n",
    "        use_as_lower_limit=False,\n",
    "        terminate_exactly_on_final_condition=False\n",
    "    )\n",
    "    # Lower altitude\n",
    "    lower_altitude_termination_settings = propagation_setup.propagator.dependent_variable_termination(\n",
    "        dependent_variable_settings=propagation_setup.dependent_variable.altitude('Spacecraft', 'Itokawa'),\n",
    "        limit_value=minimum_distance_from_com,\n",
    "        use_as_lower_limit=True,\n",
    "        terminate_exactly_on_final_condition=False\n",
    "    )\n",
    "\n",
    "    # Define list of termination settings\n",
    "    termination_settings_list = [time_termination_settings,\n",
    "                                 upper_altitude_termination_settings,\n",
    "                                 lower_altitude_termination_settings]\n",
    "\n",
    "    return propagation_setup.propagator.hybrid_termination(termination_settings_list,\n",
    "                                                           fulfill_single_condition=True)"
   ]
  },
  {
   "cell_type": "markdown",
   "id": "f0e70333",
   "metadata": {},
   "source": [
    "### Dependent variables to save"
   ]
  },
  {
   "cell_type": "code",
   "execution_count": 5,
   "id": "20384c9b",
   "metadata": {
    "pycharm": {
     "is_executing": true
    }
   },
   "outputs": [],
   "source": [
    "def get_dependent_variables_to_save():\n",
    "    dependent_variables_to_save = [\n",
    "        propagation_setup.dependent_variable.central_body_fixed_spherical_position(\n",
    "            \"Spacecraft\", \"Itokawa\"\n",
    "        )\n",
    "    ]\n",
    "    return dependent_variables_to_save"
   ]
  },
  {
   "cell_type": "markdown",
   "id": "5dacf390-73f3-4f1e-9387-4fe3efa094a4",
   "metadata": {},
   "source": [
    "## Optimisation problem formulation "
   ]
  },
  {
   "cell_type": "code",
   "execution_count": 6,
   "id": "5aad6d9b",
   "metadata": {
    "pycharm": {
     "is_executing": true
    }
   },
   "outputs": [],
   "source": [
    "class AsteroidOrbitProblem:\n",
    "    \n",
    "    def __init__(self,\n",
    "                 bodies,\n",
    "                 integrator_settings,\n",
    "                 propagator_settings,\n",
    "                 mission_initial_time,\n",
    "                 mission_duration,\n",
    "                 design_variable_lower_boundaries,\n",
    "                 design_variable_upper_boundaries):\n",
    "        \n",
    "        # Sets input arguments as lambda function attributes\n",
    "        # NOTE: this is done so that the class is \"pickable\", i.e., can be serialized by pygmo\n",
    "        self.bodies_function = lambda: bodies\n",
    "        self.integrator_settings_function = lambda: integrator_settings\n",
    "        self.propagator_settings_function = lambda: propagator_settings\n",
    "        \n",
    "        # Initialize empty dynamics simulator\n",
    "        self.dynamics_simulator_function = lambda: None\n",
    "        \n",
    "        # Set other input arguments as regular attributes\n",
    "        self.mission_initial_time = mission_initial_time\n",
    "        self.mission_duration = mission_duration\n",
    "        self.mission_final_time = mission_initial_time + mission_duration\n",
    "        self.design_variable_lower_boundaries = design_variable_lower_boundaries\n",
    "        self.design_variable_upper_boundaries = design_variable_upper_boundaries\n",
    "\n",
    "    def get_bounds(self):\n",
    "        return (list(self.design_variable_lower_boundaries), list(self.design_variable_upper_boundaries))\n",
    "\n",
    "    def get_nobj(self):\n",
    "        return 2\n",
    "\n",
    "    def fitness(self,\n",
    "                orbit_parameters):\n",
    "        # Retrieves system of bodies\n",
    "        current_bodies = self.bodies_function()\n",
    "        \n",
    "        # Retrieves Itokawa gravitational parameter\n",
    "        itokawa_gravitational_parameter = current_bodies.get(\"Itokawa\").gravitational_parameter\n",
    "        \n",
    "        # Reset the initial state from the design variable vector\n",
    "        new_initial_state = element_conversion.keplerian_to_cartesian_elementwise(\n",
    "            gravitational_parameter=itokawa_gravitational_parameter,\n",
    "            semi_major_axis=orbit_parameters[0],\n",
    "            eccentricity=orbit_parameters[1],\n",
    "            inclination=np.deg2rad(orbit_parameters[2]),\n",
    "            argument_of_periapsis=np.deg2rad(235.7),\n",
    "            longitude_of_ascending_node=np.deg2rad(orbit_parameters[3]),\n",
    "            true_anomaly=np.deg2rad(139.87))\n",
    "        \n",
    "        # Retrieves propagator settings object\n",
    "        propagator_settings = self.propagator_settings_function()\n",
    "        \n",
    "        # Retrieves integrator settings object\n",
    "        integrator_settings = self.integrator_settings_function()\n",
    "        \n",
    "        # Reset the initial state\n",
    "        propagator_settings.initial_states = new_initial_state\n",
    "\n",
    "        # Propagate orbit\n",
    "        dynamics_simulator = numerical_simulation.SingleArcSimulator(   current_bodies,\n",
    "                                                                        integrator_settings,\n",
    "                                                                        propagator_settings,\n",
    "                                                                        print_dependent_variable_data=False,\n",
    "                                                                        print_state_data=False)\n",
    "        # Update dynamics simulator function\n",
    "        self.dynamics_simulator_function = lambda: dynamics_simulator\n",
    "\n",
    "        # Retrieve dependent variable history\n",
    "        dependent_variables = dynamics_simulator.dependent_variable_history\n",
    "        dependent_variables_list = np.vstack(list(dependent_variables.values()))\n",
    "        \n",
    "        # Retrieve distance\n",
    "        distance = dependent_variables_list[:, 0]\n",
    "        # Retrieve latitude\n",
    "        latitudes = dependent_variables_list[:, 1]\n",
    "        \n",
    "        # Compute mean latitude\n",
    "        mean_latitude = np.mean(np.absolute(latitudes))\n",
    "        # Computes fitness as mean latitude\n",
    "        current_fitness = 1.0 / mean_latitude\n",
    "\n",
    "        # Exaggerate fitness value if the spacecraft has broken out of the selected distance range\n",
    "        current_penalty = 0.0\n",
    "        if (max(dynamics_simulator.dependent_variable_history.keys()) < self.mission_final_time):\n",
    "            current_penalty = 1.0E2\n",
    "\n",
    "        return [current_fitness + current_penalty, np.mean(distance) + current_penalty * 1.0E3]\n",
    "\n",
    "    def get_last_run_dynamics_simulator(self):\n",
    "        return self.dynamics_simulator_function()"
   ]
  },
  {
   "cell_type": "markdown",
   "id": "456141eb-6f3e-4b97-a184-700201579ffd",
   "metadata": {
    "tags": []
   },
   "source": [
    "### Setup orbital simulation\n"
   ]
  },
  {
   "cell_type": "markdown",
   "id": "6e7d577c-ce6e-4d5f-92cc-43803d8bb507",
   "metadata": {
    "tags": []
   },
   "source": [
    "#### Simulation settings"
   ]
  },
  {
   "cell_type": "code",
   "execution_count": 7,
   "id": "82c2854f",
   "metadata": {
    "pycharm": {
     "is_executing": true
    }
   },
   "outputs": [
    {
     "ename": "NameError",
     "evalue": "name 'spice' is not defined",
     "output_type": "error",
     "traceback": [
      "\u001b[0;31m---------------------------------------------------------------------------\u001b[0m",
      "\u001b[0;31mNameError\u001b[0m                                 Traceback (most recent call last)",
      "\u001b[0;32m/var/folders/z9/pt4r2zk96vq8vgmj_7h4zpwh0000gn/T/ipykernel_26833/534613963.py\u001b[0m in \u001b[0;36m<module>\u001b[0;34m\u001b[0m\n\u001b[1;32m      1\u001b[0m \u001b[0;31m# Load spice kernels\u001b[0m\u001b[0;34m\u001b[0m\u001b[0;34m\u001b[0m\u001b[0;34m\u001b[0m\u001b[0m\n\u001b[0;32m----> 2\u001b[0;31m \u001b[0mspice\u001b[0m\u001b[0;34m.\u001b[0m\u001b[0mload_standard_kernels\u001b[0m\u001b[0;34m(\u001b[0m\u001b[0;34m)\u001b[0m\u001b[0;34m\u001b[0m\u001b[0;34m\u001b[0m\u001b[0m\n\u001b[0m\u001b[1;32m      3\u001b[0m \u001b[0;34m\u001b[0m\u001b[0m\n\u001b[1;32m      4\u001b[0m \u001b[0;31m# Set simulation start and end epochs\u001b[0m\u001b[0;34m\u001b[0m\u001b[0;34m\u001b[0m\u001b[0;34m\u001b[0m\u001b[0m\n\u001b[1;32m      5\u001b[0m \u001b[0mmission_initial_time\u001b[0m \u001b[0;34m=\u001b[0m \u001b[0;36m0.0\u001b[0m\u001b[0;34m\u001b[0m\u001b[0;34m\u001b[0m\u001b[0m\n",
      "\u001b[0;31mNameError\u001b[0m: name 'spice' is not defined"
     ]
    }
   ],
   "source": [
    "# Load spice kernels\n",
    "spice.load_standard_kernels()\n",
    "\n",
    "# Set simulation start and end epochs\n",
    "mission_initial_time = 0.0\n",
    "mission_duration = 5.0 * constants.JULIAN_DAY\n",
    "\n",
    "# Define Itokawa radius\n",
    "itokawa_radius = 161.915\n",
    "\n",
    "# Set altitude termination conditions\n",
    "minimum_distance_from_com = 150.0 + itokawa_radius\n",
    "maximum_distance_from_com = 5.0E3 + itokawa_radius\n",
    "\n",
    "# Set boundaries on the design variables\n",
    "design_variable_lb = (300, 0.0, 0.0, 0.0)\n",
    "design_variable_ub = (2000, 0.3, 180, 360)\n",
    "\n",
    "# Create simulation bodies\n",
    "bodies = create_simulation_bodies(itokawa_radius)\n",
    "\n",
    "# Define bodies to propagate and central bodies\n",
    "bodies_to_propagate = [\"Spacecraft\"]\n",
    "central_bodies = [\"Itokawa\"]\n",
    "\n",
    "# Create acceleration models\n",
    "acceleration_models = get_acceleration_models(bodies_to_propagate, central_bodies, bodies)"
   ]
  },
  {
   "cell_type": "markdown",
   "id": "71e393c0-8b6c-4c02-be91-055e0404d090",
   "metadata": {
    "tags": []
   },
   "source": [
    "#### Dependent variables, termination settings, and orbit parameters"
   ]
  },
  {
   "cell_type": "code",
   "execution_count": null,
   "id": "f75936e9",
   "metadata": {
    "pycharm": {
     "is_executing": true
    }
   },
   "outputs": [],
   "source": [
    "# Define list of dependent variables to save\n",
    "dependent_variables_to_save = get_dependent_variables_to_save()\n",
    "\n",
    "# Create propagation settings\n",
    "termination_settings = get_termination_settings(\n",
    "    mission_initial_time, mission_duration, minimum_distance_from_com, maximum_distance_from_com)\n",
    "\n",
    "orbit_parameters = [1.20940330e+03, 2.61526215e-01, 7.53126558e+01, 2.60280587e+02]"
   ]
  },
  {
   "cell_type": "markdown",
   "id": "35b652bb-e4fe-4778-bda6-89dd2df99e11",
   "metadata": {
    "tags": []
   },
   "source": [
    "#### Integrator and Propagator settings"
   ]
  },
  {
   "cell_type": "code",
   "execution_count": null,
   "id": "3ad0804e",
   "metadata": {
    "pycharm": {
     "is_executing": true
    }
   },
   "outputs": [],
   "source": [
    "# Create numerical integrator settings\n",
    "integrator_settings = propagation_setup.integrator.runge_kutta_variable_step_size(\n",
    "    initial_time=mission_initial_time,\n",
    "    initial_time_step=1.0,\n",
    "    coefficient_set=propagation_setup.integrator.CoefficientSets.rkf_78,\n",
    "    minimum_step_size=1.0E-6,\n",
    "    maximum_step_size=constants.JULIAN_DAY,\n",
    "    relative_error_tolerance=1.0E-8,\n",
    "    absolute_error_tolerance=1.0E-8)\n",
    "\n",
    "# Get current propagator, and define translational state propagation settings\n",
    "propagator = propagation_setup.propagator.cowell\n",
    "# Define propagation settings\n",
    "initial_state = np.zeros(6)\n",
    "propagator_settings = propagation_setup.propagator.translational(central_bodies,\n",
    "                                                                         acceleration_models,\n",
    "                                                                         bodies_to_propagate,\n",
    "                                                                         initial_state,\n",
    "                                                                         termination_settings,\n",
    "                                                                         propagator,\n",
    "                                                                         dependent_variables_to_save)"
   ]
  },
  {
   "cell_type": "markdown",
   "id": "a90f5470",
   "metadata": {
    "tags": []
   },
   "source": [
    "## Design Space Exploration\n",
    "\n",
    "**From here on out the example is new compared to the** [Custom environment](https://tudat-space.readthedocs.io/en/latest/_src_getting_started/_src_examples/notebooks/pygmo/asteroid_orbit_optimization/aoo_custom_environment.html) **part of the example.**\n",
    "\n",
    "Now that the simulation has been setup, the problem can actually be run and explored. While one could jump into the optimalisation immediately, not much is known yet about the specific problem at hand. A design space exploration is done prior to the optimalisation in order to better understand the behaviour of the system. The goal is to figure out and observe the link between the design space and the objective space. Numerous methods for exploring the design space are possible, a list of the implemented methods can be seen below. This selection covers various kinds of analysis, ranging from simple and brainless, to systematic and focussed. \n",
    "\n",
    "- Monte Carlo Analysis\n",
    "- Fractional Factorial Design\n",
    "- Factorial Design"
   ]
  },
  {
   "cell_type": "markdown",
   "id": "63feccdd",
   "metadata": {},
   "source": [
    "### Monte Carlo Analysis\n",
    "Starting with the method that requires the least amount of thinking; a Monte Carlo Analysis. By varying input parameters randomly, and propagating many trajectories, one can discover trends; how the semi-major axis influences the mean latitude objective, for example. The difficulty arises in that the results are not conclusive; design variables can be coupled by definition."
   ]
  },
  {
   "cell_type": "markdown",
   "id": "23adb1cb",
   "metadata": {},
   "source": [
    "#### Variable Definitions\n",
    "\n",
    "A number of variables have to be defined. The number of runs per design variable, this quantity is a trade-off between resolution of your results and time spent. The seed is defined for reproducibility of the results. A number of arrays are defined for saving the data relevant for post-processing. "
   ]
  },
  {
   "cell_type": "code",
   "execution_count": null,
   "id": "c00dd1db",
   "metadata": {},
   "outputs": [],
   "source": [
    "no_of_runs = 500\n",
    "random_seed = 42\n",
    "\n",
    "np.random.seed(random_seed)\n",
    "\n",
    "orbit_param_names = ['Semi-major Axis', 'Eccentricity', 'Inclination', 'Longitude of the Node']\n",
    "mean_latitude_all_param = np.zeros((no_of_runs, len(orbit_param_names)))\n",
    "mean_distance_all_param = np.zeros((no_of_runs, len(orbit_param_names)))\n",
    "max_distance = np.zeros((no_of_runs, len(orbit_param_names)))\n",
    "min_distance = np.zeros((no_of_runs, len(orbit_param_names)))\n",
    "constraint_values = np.zeros((no_of_runs, len(orbit_param_names)))\n",
    "parameters = np.zeros((no_of_runs, len(orbit_param_names)))"
   ]
  },
  {
   "cell_type": "markdown",
   "id": "7e917f4c",
   "metadata": {},
   "source": [
    "#### Monte Carlo loop\n",
    "\n",
    "The Monte Carlo variation is made with two nested loops; one for the various orbit parameters that will be changed, and one for each run. As explained before, only one parameter is changed per run, so for each parameter, a set of random numbers is produced equal to the number of simulations. This new combination is throughput into the fitness function of the `AsteroidOrbitProblem` class. Regarding that `AsteroidOrbitProblem` class, for the sake of consistency, the (UDP) Problem class from PyGMO is used. This class is by no means necessary for running the analysis. After the fitness is evaluated, a number of relevant quantities are saved to the previously defined arrays."
   ]
  },
  {
   "cell_type": "code",
   "execution_count": null,
   "id": "e8af6b48",
   "metadata": {},
   "outputs": [],
   "source": [
    "for i in range(len(orbit_parameters)): \n",
    "\n",
    "    #print('Monte Carlo design variable :', orbit_param_names[i])\n",
    "    parameter_all_runs = np.random.uniform(design_variable_lb[i], design_variable_ub[i], no_of_runs)\n",
    "    parameters[:, i] = parameter_all_runs\n",
    "\n",
    "\n",
    "    for j in range(no_of_runs):\n",
    "        #print('Monte Carlo Run :', str(j))\n",
    "\n",
    "        initial_state[i] = parameter_all_runs[j]\n",
    "        orbit_parameters[i] = parameter_all_runs[j]\n",
    "\n",
    "        # Create Asteroid Orbit Problem object\n",
    "        current_asteroid_orbit_problem = AsteroidOrbitProblem(bodies,\n",
    "                                                                      integrator_settings,\n",
    "                                                                      propagator_settings,\n",
    "                                                                      mission_initial_time,\n",
    "                                                                      mission_duration,\n",
    "                                                                      design_variable_lb,\n",
    "                                                                      design_variable_ub\n",
    "                                                                      )\n",
    "\n",
    "        # Update thrust settings and evaluate fitness\n",
    "        current_asteroid_orbit_problem.fitness(orbit_parameters)\n",
    "\n",
    "        ### OUTPUT OF THE SIMULATION ###\n",
    "        # Retrieve propagated state and dependent variables\n",
    "        state_history = current_asteroid_orbit_problem.get_last_run_dynamics_simulator().state_history\n",
    "        dependent_variable_history = current_asteroid_orbit_problem.get_last_run_dynamics_simulator().dependent_variable_history\n",
    "\n",
    "        # Get the number of function evaluations (for comparison of different integrators)\n",
    "        dynamics_simulator = current_asteroid_orbit_problem.get_last_run_dynamics_simulator()\n",
    "        function_evaluation_dict = dynamics_simulator.cumulative_number_of_function_evaluations\n",
    "        number_of_function_evaluations = list(function_evaluation_dict.values())[-1]\n",
    "\n",
    "        dependent_variables_list = np.vstack(list(dependent_variable_history.values()))\n",
    "        # Retrieve distance\n",
    "        distance = dependent_variables_list[:, 0]\n",
    "        # Retrieve latitude\n",
    "        latitudes = dependent_variables_list[:, 1]\n",
    "        # Compute mean latitude\n",
    "        mean_latitude = np.mean(np.absolute(latitudes))\n",
    "        # Compute mean distance\n",
    "        mean_distance = np.mean(distance)  \n",
    "\n",
    "        # Objectives\n",
    "        mean_latitude_all_param[j, i] = mean_latitude\n",
    "        mean_distance_all_param[j, i] = mean_distance\n",
    "\n",
    "        max_dist = np.max(distance)\n",
    "        min_dist = np.min(distance)\n",
    "\n",
    "        \n",
    "        dist_to_max = maximum_distance_from_com - max_dist\n",
    "        dist_to_min = minimum_distance_from_com - min_dist\n",
    "\n",
    "        if np.abs(dist_to_max) > np.abs(dist_to_min):\n",
    "            constraint_val = np.abs(dist_to_min)\n",
    "            maxmin = 'min'\n",
    "        else:\n",
    "            constraint_val = np.abs(dist_to_max)\n",
    "            maxmin = 'max'\n",
    "        constraint_values[j, i] = constraint_val\n"
   ]
  },
  {
   "cell_type": "markdown",
   "id": "f17dd350",
   "metadata": {},
   "source": [
    "####  Monte Carlo Post-processing\n",
    "A few dictionaries are defined for labelling purposes and the parameters are scattered against the objective values. A color map is used to indicate how close the solutions are to the distance constraint value. Many results are made, but only the semi-major axis variation data is plotted. Remove `break` in the nested loop below to obtain all results."
   ]
  },
  {
   "cell_type": "code",
   "execution_count": null,
   "id": "6ac5945e",
   "metadata": {},
   "outputs": [],
   "source": [
    "# Create dictionaries defining the design variables\n",
    "design_variable_names = {0: 'Semi-major axis [m]',\n",
    "                           1: 'Eccentricity',\n",
    "                           2: 'Inclination [deg]',\n",
    "                           3: 'Longitude of the node [deg]'}\n",
    "design_variable_range = {0: [800.0, 1300.0],\n",
    "                           1: [0.10, 0.17],\n",
    "                           2: [90.0, 95.0],\n",
    "                           3: [250.0, 270.0]}\n",
    "design_variable_symbols = {0: r'$a$',\n",
    "                             1: r'$e$',\n",
    "                             2: r'$i$',\n",
    "                             3: r'$\\Omega$'}\n",
    "design_variable_units = {0: r' m',\n",
    "                           1: r' ',\n",
    "                           2: r' deg',\n",
    "                           3: r' deg'}"
   ]
  },
  {
   "cell_type": "code",
   "execution_count": null,
   "id": "eea828c3",
   "metadata": {},
   "outputs": [],
   "source": [
    "obj_arrays = [mean_latitude_all_param, mean_distance_all_param]\n",
    "objective_names = ['Latitude', 'Distance']\n",
    "for obj in range(2): #number of objectives\n",
    "\n",
    "    for i in range(len(orbit_param_names)):\n",
    "        fig, axs = plt.subplots(2, 2, figsize=(14, 8))\n",
    "        plt.subplots_adjust(wspace=0.5, hspace=0.5)\n",
    "        fig.suptitle('Monte Carlo - one-by-one - Objective: %s - Scaling: Constrained Distance'%(objective_names[obj]))\n",
    "        for ax_index, ax in enumerate(axs.flatten()):\n",
    "            cs = ax.scatter(parameters[:, ax_index], obj_arrays[obj][:, ax_index], s=2, c=constraint_values[:,i])\n",
    "            cbar = fig.colorbar(cs, ax=ax)\n",
    "            cbar.ax.set_ylabel('Distance constraint value')\n",
    "            ax.set_ylabel('%s [rad]'%(objective_names[obj]))\n",
    "            ax.set_xlabel(design_variable_names[ax_index])\n",
    "        \n",
    "        #For more verbose results, remove the 'break' below.\n",
    "        break"
   ]
  },
  {
   "cell_type": "markdown",
   "id": "feaa9977-e749-475f-b3a9-bba66272c7b4",
   "metadata": {},
   "source": [
    "### Fractional Factorial Design\n",
    "The Fractional Factorial Design (FFD) method has a number of pros and cons relative to the Monte Carlo method. The concept is based on orthogonality of a design matrix, with which you can extract information efficiently without running a ton of simulations. In other words, a selection of corners of the design space hypercube are explored. The advantage of the orthogonal array, based on Latin Squares, is that it is computationally very light, thereby of course sacrificing knowledge about your design space. The information per run is high with FFD.\n",
    "\n",
    "#### Orthogonal Array\n",
    "\n",
    "A function, `get_orthogonal_array()`,  is defined that calculates the orthogonal array depending on the number of levels (2 or 3) and number of factors (design variables) that any specific problem has. The algorithm is based on the Latin Square and the array is systematically built from there. The content of this array can sometimes be confusing, but it is quit straightforward; the rows represent experiments, the columns represent the factors, and the entries represent the discretised value of the factor — in the two-level case -1 becomes the minimum bound 1 becomes the maximum bound. If you print the array that rolls out, you can get a feel for the structure of the method and the reason why it is efficient.\n",
    "\n",
    "#### Fractional Factorial Design Loop \n",
    "\n",
    "The FFD module is similar to that of the Monte Carlo in that there are two loops including one that changes the design variables and one that loops over the various runs. Within the two loops the `AsteroidOrbitProblem` is defined again and the objective values are extracted after evaluating the fitness function.\n",
    "\n",
    "The difference is in how the orbit parameters are assigned. Instead of creating vectors of random numbers, the values in the orthogonal array, -1 and 1 for 2-level analysis, map to minimum and maximum orbit parameter values respectively."
   ]
  },
  {
   "cell_type": "code",
   "execution_count": null,
   "id": "d89e218b",
   "metadata": {},
   "outputs": [],
   "source": [
    "no_of_factors = 4 # This leads to an 8x7 orthogonal array. Meaning 7 contribution percentages will be given in the ANOVA.\n",
    "no_of_levels = 2\n",
    "\n",
    "FFD_array = util.get_orthogonal_array(no_of_factors, no_of_levels)\n",
    "mean_dependent_variables_list = np.zeros((len(FFD_array), 2)) # the second argument is the number of objectives\n",
    "\n",
    "for i in range(len(FFD_array)):\n",
    "    for j in range(len(orbit_parameters)):\n",
    "        \n",
    "        if FFD_array[i,j] == -1:\n",
    "            orbit_parameters[j] = design_variable_lb[j]\n",
    "        else: # if two level orthogonal array\n",
    "            orbit_parameters[j] = design_variable_ub[j]\n",
    "\n",
    "    # Create Asteroid Orbit Problem object\n",
    "    current_asteroid_orbit_problem = AsteroidOrbitProblem(bodies,\n",
    "                                                  integrator_settings,\n",
    "                                                  propagator_settings,\n",
    "                                                  mission_initial_time,\n",
    "                                                  mission_duration,\n",
    "                                                  design_variable_lb,\n",
    "                                                  design_variable_ub\n",
    "                                                  )\n",
    "    # Update orbital parameters and evaluate fitness\n",
    "    current_asteroid_orbit_problem.fitness(orbit_parameters)\n",
    "\n",
    "    ### OUTPUT OF THE SIMULATION ###\n",
    "    # Retrieve propagated state and dependent variables\n",
    "    state_history = current_asteroid_orbit_problem.get_last_run_dynamics_simulator().state_history\n",
    "    dependent_variable_history = current_asteroid_orbit_problem.get_last_run_dynamics_simulator().dependent_variable_history\n",
    "\n",
    "    dependent_variables_list = np.vstack(list(dependent_variable_history.values()))\n",
    "    # Retrieve distance\n",
    "    distance = dependent_variables_list[:, 0]\n",
    "    # Retrieve latitude\n",
    "    latitudes = dependent_variables_list[:, 1]\n",
    "    # Compute mean latitude\n",
    "    mean_latitude = np.mean(np.absolute(latitudes))\n",
    "    # Compute mean distance\n",
    "    mean_distance = np.mean(distance)\n",
    "\n",
    "    mean_dependent_variables_list[i, 0] = mean_distance\n",
    "    mean_dependent_variables_list[i, 1] = mean_latitude"
   ]
  },
  {
   "cell_type": "markdown",
   "id": "31fc1d44",
   "metadata": {},
   "source": [
    "#### Post-processing FFD\n",
    "As not many runs are done, plotting any data is not sensible. An Analysis of Variance (ANOVA) can be done to determine percentage contributions of each parameter. For example, one would find that the eccentricity—one of the design variables—has a x% contribution to the distance objective.\n",
    "\n",
    "This ANOVA analysis can also be done on the Factorial Design method discussed below, and so in the interest of space it is only applied there."
   ]
  },
  {
   "cell_type": "markdown",
   "id": "e3642b29-a168-4f56-ae65-c8213a97675e",
   "metadata": {
    "tags": []
   },
   "source": [
    "### Factorial Design\n",
    "\n",
    "Factorial design (FD) is another systematic approach to exploring the design space. It can be very useful as far fewer assumptions are made about the results; FD is complete in that all corners—and potentially intermediate points—of the hypercube are tested. Whereas with FFD an orthogonal array was created with Latin Squares, here the array is built using Yates algorithm. Some information can be found [here](https://www.itl.nist.gov/div898/handbook/eda/section3/eda35i.htm).\n",
    "\n",
    "#### Yates Array\n",
    "The Yates array is similar to the orthogonal array in that it is orthogonal, and the rows, columns, and entries correspond to the same things (experiments, factors, and discretised values, respectively). The Yates array has significantly more rows, because it is complete, as mentioned before.\n",
    "\n",
    "#### FD loop\n",
    "The orbit parameters are now assigned using the input from Yates array discussed before. Otherwise the structure is the same as Monte Carlo and FFD."
   ]
  },
  {
   "cell_type": "code",
   "execution_count": null,
   "id": "83d5faf5-17dd-4227-b963-59cc6b13a5d8",
   "metadata": {},
   "outputs": [],
   "source": [
    "no_of_levels = 7 # make 7 for the response surfaces\n",
    "no_of_factors = len(orbit_parameters)\n",
    "\n",
    "#Function to create Yates array\n",
    "yates_array = util.get_yates_array(no_of_factors, no_of_levels)\n",
    "no_of_sims = len(yates_array)\n",
    "\n",
    "design_variable_arr = np.zeros((no_of_levels, no_of_factors))\n",
    "for par in range(no_of_factors):\n",
    "    design_variable_arr[:, par] = np.linspace(design_variable_lb[par], design_variable_ub[par], no_of_levels, endpoint=True)\n",
    "\n",
    "param_arr = np.zeros((len(yates_array),len(orbit_parameters)))\n",
    "objective_arr = np.zeros((len(yates_array),2))\n",
    "\n",
    "mean_distances = np.zeros(no_of_sims) \n",
    "mean_latitudes = np.zeros(no_of_sims)\n",
    "for i in range(len(yates_array)): # Run through yates array\n",
    "    level_combination = yates_array[i, :]\n",
    "    for it, j in enumerate(level_combination): #Run through the row of levels from 0 to no_of_levels\n",
    "        if no_of_levels == 7:\n",
    "            orbit_parameters[it] = design_variable_arr[j+3, it]\n",
    "        else:\n",
    "            if j == -1:\n",
    "                orbit_parameters[it] = design_variable_arr[0, it]\n",
    "            if j == 1:\n",
    "                orbit_parameters[it] = design_variable_arr[1, it]\n",
    "    orbit_param_copy = orbit_parameters.copy()\n",
    "    param_arr[i,:] = orbit_param_copy\n",
    "\n",
    "\n",
    "    # Create Asteroid Orbit Problem object\n",
    "    current_asteroid_orbit_problem = AsteroidOrbitProblem(bodies,\n",
    "                                                  integrator_settings,\n",
    "                                                  propagator_settings,\n",
    "                                                  mission_initial_time,\n",
    "                                                  mission_duration,\n",
    "                                                  design_variable_lb,\n",
    "                                                  design_variable_ub\n",
    "                                                  )\n",
    "    # Update orbital parameters and evaluate fitness\n",
    "    current_asteroid_orbit_problem.fitness(orbit_parameters)\n",
    "\n",
    "    ### OUTPUT OF THE SIMULATION ###\n",
    "    # Retrieve propagated state and dependent variables\n",
    "    state_history = current_asteroid_orbit_problem.get_last_run_dynamics_simulator().state_history\n",
    "    dependent_variable_history = current_asteroid_orbit_problem.get_last_run_dynamics_simulator().dependent_variable_history\n",
    "\n",
    "    dependent_variables_list = np.vstack(list(dependent_variable_history.values()))\n",
    "    # Retrieve distance\n",
    "    distance = dependent_variables_list[:, 0]\n",
    "    # Retrieve latitude\n",
    "    latitudes = dependent_variables_list[:, 1]\n",
    "    # Compute mean latitude\n",
    "    mean_latitude = np.mean(np.absolute(latitudes))\n",
    "    # Compute mean distance\n",
    "    mean_distance = np.mean(distance)\n",
    "\n",
    "    objective_arr[i,:] = np.array([mean_distance, mean_latitude])\n",
    "    mean_distances[i] = mean_distance\n",
    "    mean_latitudes[i] = mean_latitude"
   ]
  },
  {
   "cell_type": "markdown",
   "id": "441fe688-fd1b-4f3b-80c9-526bd68c024b",
   "metadata": {
    "tags": []
   },
   "source": [
    "#### Anova Analysis\n",
    "\n",
    "Now that yates array has been created and the objective values have been obtained, these two pieces of data can be combined to calculate what the contribution is of a certain variable or interaction to an objective, using an ANOVA analysis. Individual, linear, and quadratic effects are can be taken into account when determining the contributions."
   ]
  },
  {
   "cell_type": "code",
   "execution_count": null,
   "id": "9c24aa43-feb5-45ad-b9f6-6956cdc15a1f",
   "metadata": {},
   "outputs": [],
   "source": [
    "# Anova analysis\n",
    "i, ij, ijk, err = util.anova_analysis(mean_distances, #can also be mean_latitudes\n",
    "            yates_array,\n",
    "            no_of_factors,\n",
    "            no_of_levels,\n",
    "            level_of_interactions=2)"
   ]
  },
  {
   "cell_type": "markdown",
   "id": "2e71a945",
   "metadata": {},
   "source": [
    "#### ANOVA Results\n",
    "In the tables below, the individual, linear, and quadratic contributions to the distance objective can be found in percentages, which follows from the anova_analysis function. NOTE: These results were made with the 2-level yates array, because the  interaction columns are calculated with -1 and 1. This doesn't work with 7 levels.\n",
    "\n",
    "|    |  Semi-major Axis  |Eccentricity|Inclination|Longitude of the Node|\n",
    "|----|----|----|----|----|\n",
    "|Individual Contribution [%]|99.7|0.101|0.037|1.38e-4|\n",
    "\n",
    "|    |Sma-Ecc|Sma-Inc|Sma-Lon|Ecc-Inc|Ecc-Lon|Inc-Lon|\n",
    "|----|----|----|----|----|----|----|\n",
    "|Linear Interaction [%]|6.06e-5|0.037|1.38e-4|2.51e-2|3.55e-4|2.28e-4|\n",
    "\n",
    "|    |  Sma-Ecc-Inc  |Sma-Ecc-Lon|Sma-Inc-Lon|Ecc-Inc-Lon|\n",
    "|----|----|----|----|----|\n",
    "|Quadratic Contribution [%]|2.51e-2|3.55e-4|2.28e-4|6.42e-5|"
   ]
  },
  {
   "cell_type": "markdown",
   "id": "0e2cae62",
   "metadata": {},
   "source": [
    "#### Response Surface Post-processing\n",
    "With factorial design, a response surface can also be plotted. These surfaces are generally only useful if the resolution is higher than 2, as you can only see linear trends with two levels. The problem can easily be too large (too many design variables) to run the problem with 7 levels, but for this problem it is doable. The following results are thus created by setting the no_of_levels to 7.\n",
    "\n",
    "As plotting all the data obtained with the FD is rather verbose, and probably not the best way, each combination of two variables is plotted for the trajectories where the other two parameters are at their minimum—the 0th index.\n",
    "\n",
    "A few lists are created for labelling, and the iterators for each response surface plot are set to 0. The 6 combinations with their conditions as explained before are implemented, after which the 49 points are plotted (`no_of_levels**2`).\n"
   ]
  },
  {
   "cell_type": "code",
   "execution_count": null,
   "id": "8a8e321a",
   "metadata": {
    "tags": [
     "nbsphinx-thumbnail"
    ]
   },
   "outputs": [],
   "source": [
    "it1, it2, it3, it4, it5, it6 = 0, 0, 0, 0, 0, 0\n",
    "combi_list = ['sma_ecc', 'sma_inc', 'sma_lon', 'ecc_inc', 'ecc_lon', 'inc_lon']\n",
    "xlabel_list = ['Semi-major Axis [m]','Semi-major Axis [m]', 'Semi-major Axis [m]', 'Eccentricity [-]', 'Eccentricity [-]', 'Inclination [rad]']\n",
    "ylabel_list = ['Eccentricity [-]', 'Inclination [rad]', 'Longitude of the Node [rad]', 'Inclination [rad]', 'Longitude of the Node [rad]', 'Longitude of the Node [rad]']\n",
    "title_list = ['inc = 0 & lon = 0', 'ecc = 0 & lon = 0', 'ecc = 0 & inc = 0', 'sma = 300 & lon = 0', 'sma = 300 & inc = 0', 'sma = 300 & ecc = 0']\n",
    "\n",
    "objectives = {}\n",
    "params = {}\n",
    "for i in combi_list:\n",
    "    objectives[i] = np.zeros((no_of_levels**2, 2))\n",
    "    params[i] = np.zeros((no_of_levels**2, 2))\n",
    "for i in range(len(param_arr)):\n",
    "    if param_arr[i, 2] == 0 and param_arr[i, 3] == 0:\n",
    "        objectives['sma_ecc'][it1, :] = objective_arr[i, :] \n",
    "        params['sma_ecc'][it1, :] = param_arr[i, [0, 1]]\n",
    "        it1 += 1\n",
    "    if param_arr[i, 1] == 0 and param_arr[i, 3] == 0:\n",
    "        objectives['sma_inc'][it2, :] = objective_arr[i, :] \n",
    "        params['sma_inc'][it2, :] = param_arr[i, [0, 2]]\n",
    "        it2 += 1\n",
    "    if param_arr[i, 1] == 0 and param_arr[i, 2] == 0:\n",
    "        objectives['sma_lon'][it3, :] = objective_arr[i, :] \n",
    "        params['sma_lon'][it3, :] = param_arr[i, [0, 3]]\n",
    "        it3 += 1\n",
    "    if param_arr[i, 0] == 300 and param_arr[i, 3] == 0:\n",
    "        objectives['ecc_inc'][it4, :] = objective_arr[i, :] \n",
    "        params['ecc_inc'][it4, :] = param_arr[i, [1, 2]]\n",
    "        it4 += 1\n",
    "    if param_arr[i, 0] == 300 and param_arr[i, 2] == 0:\n",
    "        objectives['ecc_lon'][it5, :] = objective_arr[i, :] \n",
    "        params['ecc_lon'][it5, :] = param_arr[i, [1, 3]]\n",
    "        it5 += 1\n",
    "    if param_arr[i, 0] == 300 and param_arr[i, 1] == 0:\n",
    "        objectives['inc_lon'][it6, :] = objective_arr[i, :] \n",
    "        params['inc_lon'][it6, :] = param_arr[i, [1, 3]]\n",
    "        it6 += 1\n",
    "\n",
    "fig = plt.figure(figsize=(18, 10))\n",
    "fig.suptitle('Response surfaces each combination - 0th level for other parameters', fontweight='bold', y=0.95)\n",
    "for i, combi in enumerate(combi_list):\n",
    "    ax = fig.add_subplot(2, 3, 1 + i, projection='3d')\n",
    "    plt.subplots_adjust(wspace=0.5, hspace=0.5)\n",
    "    cmap = ax.plot_surface(params[combi][:, 0].reshape(no_of_levels,\n",
    "        no_of_levels), params[combi][:, 1].reshape(no_of_levels,\n",
    "            no_of_levels), objectives[combi][:, 1].reshape(no_of_levels,\n",
    "                no_of_levels), cmap=plt.get_cmap('copper'))\n",
    "\n",
    "    ax.set_xlabel(xlabel_list[i], labelpad=5)\n",
    "    ax.set_ylabel(ylabel_list[i], labelpad=5)\n",
    "    ax.set_zlabel('Mean Latitude [rad]', labelpad=10)\n",
    "    ax.set_title('%s - %s '%(combi, title_list[i]), y=1.0, pad=10)\n",
    "    ax.view_init(10, -140)\n"
   ]
  },
  {
   "cell_type": "code",
   "execution_count": null,
   "id": "3d3d5fd6-4282-4068-9fb6-7a9700a090de",
   "metadata": {},
   "outputs": [],
   "source": []
  }
 ],
 "metadata": {
  "kernelspec": {
   "display_name": "Python 3 (ipykernel)",
   "language": "python",
   "name": "python3"
  },
  "language_info": {
   "codemirror_mode": {
    "name": "ipython",
    "version": 3
   },
   "file_extension": ".py",
   "mimetype": "text/x-python",
   "name": "python",
   "nbconvert_exporter": "python",
   "pygments_lexer": "ipython3",
   "version": "3.7.12"
  }
 },
 "nbformat": 4,
 "nbformat_minor": 5
}
