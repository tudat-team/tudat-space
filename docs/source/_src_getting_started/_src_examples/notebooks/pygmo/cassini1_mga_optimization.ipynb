{
 "cells": [
  {
   "cell_type": "markdown",
   "id": "eef5d8cd",
   "metadata": {},
   "source": [
    "# Cassini 1 (MGA transfer) optimization with PyGMO"
   ]
  },
  {
   "cell_type": "markdown",
   "id": "ea323ff5",
   "metadata": {},
   "source": [
    "Copyright (c) 2010-2022, Delft University of Technology. All rights reserved. This file is part of the Tudat. Redistribution and use in source and binary forms, with or without modification, are permitted exclusively under the terms of the Modified BSD license. You should have received a copy of the license with this file. If not, please or visit: http://tudat.tudelft.nl/LICENSE."
   ]
  },
  {
   "cell_type": "markdown",
   "id": "8fc5e938",
   "metadata": {
    "tags": []
   },
   "source": [
    "## Context \n",
    "\n",
    "This example illustrates the usage of PyGMO to optimize an interplanetary transfer trajectory simulated using the multiple gravity assist (MGA) module of Tudat. The trajectory optimization of the Cassini 1 problem, which corresponds to a simplified version of the real Cassini mission, is here solved. The Cassini 1 problem departs from the edge of Earth's SOI, executes gravity assists at Venus, Venus, Earth, and Jupiter, and finally is inserted into an orbit around Saturn with eccentricity e = 0.98 and semi-major axis a = 1.0895e8 / 0.02 km. Each transfer leg (i.e. between each two planets) is considered to be unpowered, with $\\Delta V$s applied only during the gravity assists. Hence, the transfer is modeled as an [MGA with unpowered unperturbed legs](https://py.api.tudat.space/en/latest/transfer_trajectory.html#tudatpy.trajectory_design.transfer_trajectory.mga_settings_unpowered_unperturbed_legs).\n",
    "\n",
    "The 6 design variables are:\n",
    "* Departure time\n",
    "* Time of flight between consecutive planets (5 variables)\n",
    "\n",
    "The only objective function is the $\\Delta V$, which is minimized.\n",
    "\n",
    "The Cassini 1 problem (among others) has been proposed and solved by ESA Advanced Concepts Team [(Vinkó et al, 2007)](https://www.esa.int/gsp/ACT/doc/MAD/pub/ACT-RPR-MAD-2007-BenchmarkingDifferentGlobalOptimisationTechniques.pdf). In this and other papers, various global optimisation problems related to spacecraft trajectory design are described and solved.\n",
    "\n",
    "PyGMO is used in this example. It is assumed that the reader of this tutorial is already familiar with the content of [this basic PyGMO tutorial](https://tudat-space.readthedocs.io/en/latest/_src_advanced_topics/optimization_pygmo.html)."
   ]
  },
  {
   "cell_type": "markdown",
   "id": "5c58fdd3",
   "metadata": {},
   "source": [
    "## Import statements\n",
    "\n",
    "The required import statements are made here, at the very beginning. Some standard modules are first loaded (numpy, matplotlib and typing). Then, the different modules of tudatpy that will be used are imported. Finally, in this example, we also need to import the pygmo library."
   ]
  },
  {
   "cell_type": "code",
   "execution_count": 1,
   "id": "d28d6091",
   "metadata": {},
   "outputs": [],
   "source": [
    "# General imports\n",
    "import numpy as np\n",
    "import matplotlib.pyplot as plt\n",
    "from typing import List, Tuple\n",
    "\n",
    "# Tudat imports\n",
    "import tudatpy\n",
    "from tudatpy.kernel.trajectory_design import transfer_trajectory\n",
    "from tudatpy.kernel import constants\n",
    "from tudatpy.kernel.numerical_simulation import environment_setup\n",
    "from tudatpy.util import result2array\n",
    "\n",
    "# Pygmo imports\n",
    "import pygmo as pg"
   ]
  },
  {
   "cell_type": "markdown",
   "id": "5e8479f7",
   "metadata": {},
   "source": [
    "## Helpers"
   ]
  },
  {
   "cell_type": "markdown",
   "id": "1ae06952",
   "metadata": {},
   "source": [
    "First of all, let us define a helper function which is used troughout this example."
   ]
  },
  {
   "cell_type": "markdown",
   "id": "9693fb04",
   "metadata": {},
   "source": [
    "The design variables in the current optimization problem are the departure time and the time of flight between transfer nodes. However, to evaluate an MGA trajectory in Tudat it is necessary to specify a different set of parameters: node times, node free parameters, leg free parameters. This function converts a vector of design variables to the parameters which are used as input to the MGA trajectory object.\n",
    "\n",
    "The node times are easily computed based on the departure time and the time of flight between nodes. Since an MGA transfer with unpowered legs is used, no node and leg free parameters are required; thus, these are defined as empty lists."
   ]
  },
  {
   "cell_type": "code",
   "execution_count": 2,
   "id": "ce689221",
   "metadata": {
    "tags": []
   },
   "outputs": [],
   "source": [
    "def convert_trajectory_parameters (transfer_trajectory_object: tudatpy.kernel.trajectory_design.transfer_trajectory.TransferTrajectory,\n",
    "                                   trajectory_parameters: List[float]\n",
    "                                   ) -> Tuple[ List[float], List[List[float]], List[List[float]] ]:\n",
    "\n",
    "    # Declare lists of transfer parameters\n",
    "    node_times = list()\n",
    "    leg_free_parameters = list()\n",
    "    node_free_parameters = list()\n",
    "\n",
    "    # Extract from trajectory parameters the lists with each type of parameters\n",
    "    departure_time = trajectory_parameters[0]\n",
    "    times_of_flight_per_leg = trajectory_parameters[1:]\n",
    "\n",
    "    # Get node times\n",
    "    # Node time for the intial node: departure time\n",
    "    node_times.append(departure_time)\n",
    "    # None times for other nodes: node time of the previous node plus time of flight\n",
    "    accumulated_time = departure_time\n",
    "    for i in range(0, transfer_trajectory_object.number_of_nodes - 1):\n",
    "        accumulated_time += times_of_flight_per_leg[i]\n",
    "        node_times.append(accumulated_time)\n",
    "\n",
    "    # Get leg free parameters and node free parameters: one empty list per leg\n",
    "    for i in range(transfer_trajectory_object.number_of_legs):\n",
    "        leg_free_parameters.append( [ ] )\n",
    "    # One empty array for each node\n",
    "    for i in range(transfer_trajectory_object.number_of_nodes):\n",
    "        node_free_parameters.append( [ ] )\n",
    "\n",
    "    return node_times, leg_free_parameters, node_free_parameters"
   ]
  },
  {
   "cell_type": "markdown",
   "id": "c7dfabde",
   "metadata": {},
   "source": [
    "## Optimisation problem"
   ]
  },
  {
   "cell_type": "markdown",
   "id": "becba83c",
   "metadata": {},
   "source": [
    "The core of the optimization process is realized by PyGMO, which requires the definition of a problem class.\n",
    "This definition has to be done in a class that is compatible with what the PyGMO library expects from a User Defined Problem (UDP). See [this page](https://esa.github.io/pygmo2/tutorials/coding_udp_simple.html) from the PyGMO's documentation as a reference. In this example, this class is called `TransferTrajectoryProblem`.\n",
    "\n",
    "There are four mandatory methods that must be implemented in the class: \n",
    "* `__init__()`: This is the constructor for the PyGMO problem class. It is used to save all the variables required to setup the evaluation of the transfer trajectory.\n",
    "* `get_number_of_parameters(self)`: Returns the number of optimized parameters. In this case, that is the same as the number of flyby bodies (i.e. 6).\n",
    "* `get_bounds(self)`: Returns the bounds for each optimized parameter. These are provided as an input to `__init__()`. Their values are defined later in this example.\n",
    "* `fitness(self, x)`: Returns the cost associated with a vector of design parameters. Here, the fitness is the $\\Delta V$ required to execute the transfer."
   ]
  },
  {
   "cell_type": "code",
   "execution_count": 3,
   "id": "dcbb0f1a",
   "metadata": {},
   "outputs": [],
   "source": [
    "###########################################################################\n",
    "# CREATE PROBLEM CLASS ####################################################\n",
    "###########################################################################\n",
    "\n",
    "class TransferTrajectoryProblem:\n",
    "\n",
    "    def __init__(self,\n",
    "                 transfer_trajectory_object: tudatpy.kernel.trajectory_design.transfer_trajectory.TransferTrajectory,\n",
    "                 departure_date_lb: float, # Lower bound on departure date\n",
    "                 departure_date_up: float, # Upper bound on departure date\n",
    "                 legs_tof_lb: np.ndarray, # Lower bounds of each leg's time of flight\n",
    "                 legs_tof_ub: np.ndarray): # Upper bounds of each leg's time of flight\n",
    "        \"\"\"\n",
    "        Class constructor.\n",
    "        \"\"\"\n",
    "\n",
    "        self.departure_date_lb = departure_date_lb\n",
    "        self.departure_date_ub = departure_date_ub\n",
    "        self.legs_tof_lb = legs_tof_lb\n",
    "        self.legs_tof_ub = legs_tof_ub\n",
    "\n",
    "        # Save the transfer trajectory object as a lambda function\n",
    "        # This is done so that the class is \"pickable\", i.e., can be serialized by pygmo\n",
    "        self.transfer_trajectory_function = lambda: transfer_trajectory_object\n",
    "\n",
    "    def get_bounds(self) -> tuple:\n",
    "        \"\"\"\n",
    "        Returns the boundaries of the decision variables.\n",
    "        \"\"\"\n",
    "        \n",
    "        # Retrieve transfer trajectory object\n",
    "        transfer_trajectory_obj = self.transfer_trajectory_function()\n",
    "\n",
    "        number_of_parameters = self.get_number_of_parameters()\n",
    "\n",
    "        # Define lists to save lower and upper bounds of design parameters\n",
    "        lower_bound = list(np.empty(number_of_parameters))\n",
    "        upper_bound = list(np.empty(number_of_parameters))\n",
    "\n",
    "        # Define boundaries on departure date\n",
    "        lower_bound[0] = self.departure_date_lb\n",
    "        upper_bound[0] = self.departure_date_ub\n",
    "\n",
    "        # Define boundaries on time of flight between bodies ['Earth', 'Venus', 'Venus', 'Earth', 'Jupiter', 'Saturn']\n",
    "        for i in range(0, transfer_trajectory_obj.number_of_legs):\n",
    "            lower_bound[i+1] = self.legs_tof_lb[i]\n",
    "            upper_bound[i+1] = self.legs_tof_ub[i]\n",
    "\n",
    "        bounds = (lower_bound, upper_bound)\n",
    "        return bounds\n",
    "\n",
    "    def get_number_of_parameters(self):\n",
    "        \"\"\"\n",
    "        Returns number of parameters that will be optimized\n",
    "        \"\"\"\n",
    "\n",
    "        # Retrieve transfer trajectory object\n",
    "        transfer_trajectory_obj = self.transfer_trajectory_function()\n",
    "\n",
    "        # Get number of parameters: it's the number of nodes (time at the first node, and time of flight to reach each subsequent node)\n",
    "        number_of_parameters = transfer_trajectory_obj.number_of_nodes\n",
    "\n",
    "        return number_of_parameters\n",
    "\n",
    "    def fitness(self, trajectory_parameters: List[float]) -> list:\n",
    "        \"\"\"\n",
    "        Returns delta V of the transfer trajectory object with the given set of trajectory parameters\n",
    "        \"\"\"\n",
    "\n",
    "        # Retrieve transfer trajectory object\n",
    "        transfer_trajectory = self.transfer_trajectory_function()\n",
    "\n",
    "        # Convert list of trajectory parameters to appropriate format\n",
    "        node_times, leg_free_parameters, node_free_parameters = convert_trajectory_parameters(\n",
    "            transfer_trajectory,\n",
    "            trajectory_parameters)\n",
    "        \n",
    "        # Evaluate trajectory\n",
    "        try:\n",
    "            transfer_trajectory.evaluate(node_times, leg_free_parameters, node_free_parameters)\n",
    "            delta_v = transfer_trajectory.delta_v\n",
    "\n",
    "        # If there was some error in the evaluation of the trajectory, use a very large deltaV as penalty\n",
    "        except:\n",
    "            delta_v = 1e10\n",
    "\n",
    "        return [delta_v]"
   ]
  },
  {
   "cell_type": "markdown",
   "id": "803afd53",
   "metadata": {},
   "source": [
    "## Simulation Setup "
   ]
  },
  {
   "cell_type": "markdown",
   "id": "de4f38b2",
   "metadata": {},
   "source": [
    "Before running the optimisation, it is first necessary to setup the simulation. In this case, this consists of creating an MGA object. This object is created according to the procedure described in the [MGA trajectory example](https://docs.tudat.space/en/stable/_src_getting_started/_src_examples/notebooks/propagation/mga_dsm_analysis.html). The object is created using the central body, transfer bodies order, departure orbit, and arrival orbit specified in the Cassini 1 problem statement (presented above)."
   ]
  },
  {
   "cell_type": "code",
   "execution_count": 4,
   "id": "e3c6fa5e",
   "metadata": {},
   "outputs": [],
   "source": [
    "###########################################################################\n",
    "# Define transfer trajectory properties\n",
    "###########################################################################\n",
    "\n",
    "# Define the central body\n",
    "central_body = \"Sun\"\n",
    "\n",
    "# Define order of bodies (nodes)\n",
    "transfer_body_order = ['Earth', 'Venus', 'Venus', 'Earth', 'Jupiter', 'Saturn']\n",
    "\n",
    "# Define departure orbit\n",
    "departure_semi_major_axis = np.inf\n",
    "departure_eccentricity = 0\n",
    "\n",
    "# Define insertion orbit\n",
    "arrival_semi_major_axis = 1.0895e8 / 0.02\n",
    "arrival_eccentricity = 0.98\n",
    "\n",
    "# Create simplified system of bodies\n",
    "bodies = environment_setup.create_simplified_system_of_bodies()\n",
    "\n",
    "# Define the trajectory settings for both the legs and at the nodes\n",
    "transfer_leg_settings, transfer_node_settings = transfer_trajectory.mga_settings_unpowered_unperturbed_legs(\n",
    "    transfer_body_order,\n",
    "    departure_orbit=(departure_semi_major_axis, departure_eccentricity),\n",
    "    arrival_orbit=(arrival_semi_major_axis, arrival_eccentricity))\n",
    "\n",
    "# Create the transfer calculation object\n",
    "transfer_trajectory_object = transfer_trajectory.create_transfer_trajectory(\n",
    "    bodies,\n",
    "    transfer_leg_settings,\n",
    "    transfer_node_settings,\n",
    "    transfer_body_order,\n",
    "    central_body)"
   ]
  },
  {
   "cell_type": "markdown",
   "id": "f6174500-ab3d-43cc-ab0a-c1fdfa1030df",
   "metadata": {},
   "source": [
    "## Optimization"
   ]
  },
  {
   "cell_type": "markdown",
   "id": "5ba8838a",
   "metadata": {
    "tags": []
   },
   "source": [
    "### Optimization Setup "
   ]
  },
  {
   "cell_type": "markdown",
   "id": "11ccb5ef-4843-4a97-834b-678fa133f92d",
   "metadata": {},
   "source": [
    "Before executing the optimization, it is necessary to select the bounds for the optimized parameters (departure date and time of flight per transfer leg). These are selected according to the values in the Cassini 1 problem statement [(Vinkó et al, 2007)](https://www.esa.int/gsp/ACT/doc/MAD/pub/ACT-RPR-MAD-2007-BenchmarkingDifferentGlobalOptimisationTechniques.pdf)."
   ]
  },
  {
   "cell_type": "code",
   "execution_count": 5,
   "id": "f89b3b58-51dc-4287-9f68-00fc594ac9d4",
   "metadata": {},
   "outputs": [],
   "source": [
    "# Lower and upper bound on departure date\n",
    "departure_date_lb = -1000.5 * constants.JULIAN_DAY\n",
    "departure_date_ub = -0.5 * constants.JULIAN_DAY\n",
    "\n",
    "# List of lower and upper on time of flight for each leg\n",
    "legs_tof_lb = np.zeros(5)\n",
    "legs_tof_ub = np.zeros(5)\n",
    "# Venus first fly-by\n",
    "legs_tof_lb[0] = 30 * constants.JULIAN_DAY\n",
    "legs_tof_ub[0] = 400 * constants.JULIAN_DAY\n",
    "# Venus second fly-by\n",
    "legs_tof_lb[1] = 100 * constants.JULIAN_DAY\n",
    "legs_tof_ub[1] = 470 * constants.JULIAN_DAY\n",
    "# Earth fly-by\n",
    "legs_tof_lb[2] = 30 * constants.JULIAN_DAY\n",
    "legs_tof_ub[2] = 400 * constants.JULIAN_DAY\n",
    "# Jupiter fly-by\n",
    "legs_tof_lb[3] = 400 * constants.JULIAN_DAY\n",
    "legs_tof_ub[3] = 2000 * constants.JULIAN_DAY\n",
    "# Saturn fly-by\n",
    "legs_tof_lb[4] = 1000 * constants.JULIAN_DAY\n",
    "legs_tof_ub[4] = 6000 * constants.JULIAN_DAY"
   ]
  },
  {
   "cell_type": "markdown",
   "id": "03cd6596",
   "metadata": {},
   "source": [
    "To setup the optimization, it is first necessary to initialize the optimization problem. This problem, defined through the class `TransferTrajectoryProblem`, is given to PyGMO trough the `pg.problem()` method.\n",
    "\n",
    "The optimiser is selected to be the Differential Evolution (DE) algorithm (its documentation can be found [here](https://esa.github.io/pygmo2/algorithms.html#pygmo.de)). When selecting the algorithm, here the coefficient F is selected to have the value 0.5, instead of the default 0.8. Additionaly, a fixed seed is selected; since PyGMO uses a random number generator, this ensures that PyGMO's results are reproducible.\n",
    "\n",
    "Finally, the initial population is created, with a size of 20 individuals."
   ]
  },
  {
   "cell_type": "code",
   "execution_count": 6,
   "id": "360eed58",
   "metadata": {},
   "outputs": [],
   "source": [
    "###########################################################################\n",
    "# Setup optimization\n",
    "###########################################################################\n",
    "# Initialize optimization class\n",
    "optimizer = TransferTrajectoryProblem(transfer_trajectory_object,\n",
    "                                        departure_date_lb,\n",
    "                                        departure_date_ub,\n",
    "                                        legs_tof_lb,\n",
    "                                        legs_tof_ub)\n",
    "\n",
    "# Creation of the pygmo problem object\n",
    "prob = pg.problem(optimizer)\n",
    "\n",
    "# To print the problem's information: uncomment the next line\n",
    "# print(prob)\n",
    "\n",
    "# Define number of generations per evolution\n",
    "number_of_generations = 1\n",
    "\n",
    "# Fix seed\n",
    "optimization_seed = 4444\n",
    "\n",
    "# Create pygmo algorithm object\n",
    "algo = pg.algorithm(pg.de(gen=number_of_generations, seed=optimization_seed, F=0.5))\n",
    "\n",
    "# To print the algorithm's information: uncomment the next line\n",
    "# print(algo)\n",
    "\n",
    "# Set population size\n",
    "population_size = 20\n",
    "\n",
    "# Create population\n",
    "pop = pg.population(prob, size=population_size, seed=optimization_seed)"
   ]
  },
  {
   "cell_type": "markdown",
   "id": "28b67fef",
   "metadata": {},
   "source": [
    "### Run Optimization "
   ]
  },
  {
   "cell_type": "markdown",
   "id": "0edb9f89",
   "metadata": {},
   "source": [
    "Finally, the optimization can be executed by successively evolving the defined population.\n",
    "\n",
    "A total number of evolutions of 800 is selected. Thus, the method `algo.evolve()` is called 800 times inside a loop. After each evolution, the best fitness and the list with the best design variables are saved."
   ]
  },
  {
   "cell_type": "code",
   "execution_count": 7,
   "id": "bd566c01",
   "metadata": {},
   "outputs": [
    {
     "name": "stdout",
     "output_type": "stream",
     "text": [
      "The optimization has finished\n"
     ]
    }
   ],
   "source": [
    "###########################################################################\n",
    "# Run optimization\n",
    "###########################################################################\n",
    "\n",
    "# Set number of evolutions\n",
    "number_of_evolutions = 800\n",
    "\n",
    "# Initialize empty containers\n",
    "individuals_list = []\n",
    "fitness_list = []\n",
    "\n",
    "for i in range(number_of_evolutions):\n",
    "\n",
    "    pop = algo.evolve(pop)\n",
    "\n",
    "    # individuals save\n",
    "    individuals_list.append(pop.champion_x)\n",
    "    fitness_list.append(pop.champion_f)\n",
    "\n",
    "print('The optimization has finished')"
   ]
  },
  {
   "cell_type": "markdown",
   "id": "a5090def",
   "metadata": {},
   "source": [
    "## Results Analysis"
   ]
  },
  {
   "cell_type": "markdown",
   "id": "a1522bb9",
   "metadata": {},
   "source": [
    "Having finished the optimisation, it is now possible to analyse the results.\n",
    "\n",
    "According to [Vinkó et al (2007)](https://www.esa.int/gsp/ACT/doc/MAD/pub/ACT-RPR-MAD-2007-BenchmarkingDifferentGlobalOptimisationTechniques.pdf), the best known solution for the Cassini 1 problem has a final objective function value of 4.93 km/s.\n",
    "\n",
    "The executed optimization process results in a final objective function value of 4933.17 m/s, with a slightly different decision vector from the one presented by Vinkó et al. (2017). This marginal difference can be explained by an inperfect convergence of the used optimizer, which is expected, considering that DE is a global optimizer. \n",
    "\n",
    "The evolution of the minimum $\\Delta V$ throughout the optimization process can be plotted."
   ]
  },
  {
   "cell_type": "code",
   "execution_count": 8,
   "id": "05c3804e",
   "metadata": {},
   "outputs": [
    {
     "name": "stdout",
     "output_type": "stream",
     "text": [
      "\n",
      "########### CHAMPION INDIVIDUAL ###########\n",
      "\n",
      "Total Delta V [m/s]:  4933.167631525955\n",
      "Departure time w.r.t J2000 [days]:  -791.8918438162775\n",
      "Earth-Venus time of flight [days]:  157.6653626641698\n",
      "Venus-Venus time of flight [days]:  449.3854876618641\n",
      "Venus-Earth time of flight [days]:  56.338115072299324\n",
      "Earth-Jupiter time of flight [days]:  1017.2012091680647\n",
      "Jupiter-Saturn time of flight [days]:  4543.97623020894\n"
     ]
    },
    {
     "data": {
      "text/plain": [
       "<matplotlib.legend.Legend at 0x7fa5889b4520>"
      ]
     },
     "execution_count": 8,
     "metadata": {},
     "output_type": "execute_result"
    },
    {
     "data": {
      "image/png": "[encoded data removed]",
      "text/plain": [
       "<Figure size 800x400 with 1 Axes>"
      ]
     },
     "metadata": {},
     "output_type": "display_data"
    }
   ],
   "source": [
    "###########################################################################\n",
    "# Results post-processing\n",
    "###########################################################################\n",
    "\n",
    "# Extract the best individual\n",
    "print('\\n########### CHAMPION INDIVIDUAL ###########\\n')\n",
    "print('Total Delta V [m/s]: ', pop.champion_f[0])\n",
    "best_decision_variables = pop.champion_x/constants.JULIAN_DAY\n",
    "print('Departure time w.r.t J2000 [days]: ', best_decision_variables[0])\n",
    "print('Earth-Venus time of flight [days]: ', best_decision_variables[1])\n",
    "print('Venus-Venus time of flight [days]: ', best_decision_variables[2])\n",
    "print('Venus-Earth time of flight [days]: ', best_decision_variables[3])\n",
    "print('Earth-Jupiter time of flight [days]: ', best_decision_variables[4])\n",
    "print('Jupiter-Saturn time of flight [days]: ', best_decision_variables[5])\n",
    "\n",
    "# Plot fitness over generations\n",
    "fig, ax = plt.subplots(figsize=(8, 4))\n",
    "ax.plot(np.arange(0, number_of_evolutions), np.float_(fitness_list) / 1000, label='Function value: Feval')\n",
    "# Plot champion\n",
    "champion_n = np.argmin(np.array(fitness_list))\n",
    "ax.scatter(champion_n, np.min(fitness_list) / 1000, marker='x', color='r', label='All-time champion', zorder=10)\n",
    "\n",
    "# Prettify\n",
    "ax.set_xlim((0, number_of_evolutions))\n",
    "ax.set_ylim([4, 25])\n",
    "ax.grid('major')\n",
    "ax.set_title('Best individual over generations', fontweight='bold')\n",
    "ax.set_xlabel('Number of generation')\n",
    "ax.set_ylabel(r'$\\Delta V [km/s]$')\n",
    "ax.legend(loc='upper right')\n",
    "plt.tight_layout()\n",
    "plt.legend()\n"
   ]
  },
  {
   "cell_type": "markdown",
   "id": "6b6eddd8-d2ed-4433-9425-28384c8c8902",
   "metadata": {},
   "source": [
    "#### Plot the transfer\n",
    "Finally, the position history throughout the transfer can be retrieved from the transfer trajectory object and plotted."
   ]
  },
  {
   "cell_type": "code",
   "execution_count": 9,
   "id": "512d3fee-ddc6-4b93-9cf3-2c7359cf9e44",
   "metadata": {
    "tags": [
     "nbsphinx-thumbnail"
    ]
   },
   "outputs": [
    {
     "data": {
      "image/png": "[encoded data removed]",
      "text/plain": [
       "<Figure size 800x500 with 1 Axes>"
      ]
     },
     "metadata": {},
     "output_type": "display_data"
    }
   ],
   "source": [
    "# Reevaluate the transfer trajectory using the champion design variables\n",
    "node_times, leg_free_parameters, node_free_parameters = convert_trajectory_parameters(transfer_trajectory_object, pop.champion_x)\n",
    "transfer_trajectory_object.evaluate(node_times, leg_free_parameters, node_free_parameters)\n",
    "\n",
    "# Extract the state history\n",
    "state_history = transfer_trajectory_object.states_along_trajectory(500)\n",
    "fly_by_states = np.array([state_history[node_times[i]] for i in range(len(node_times))])\n",
    "state_history = result2array(state_history)\n",
    "au = 1.5e11\n",
    "\n",
    "# Plot the state history\n",
    "fig = plt.figure(figsize=(8,5))\n",
    "ax = fig.add_subplot(111)\n",
    "ax.plot(state_history[:, 1] / au, state_history[:, 2] / au)\n",
    "ax.scatter(fly_by_states[0, 0] / au, fly_by_states[0, 1] / au, color='blue', label='Earth departure')\n",
    "ax.scatter(fly_by_states[1, 0] / au, fly_by_states[1, 1] / au, color='green', label='Venus fly-by')\n",
    "ax.scatter(fly_by_states[2, 0] / au, fly_by_states[2, 1] / au, color='green')\n",
    "ax.scatter(fly_by_states[3, 0] / au, fly_by_states[3, 1] / au, color='brown', label='Earth fly-by')\n",
    "ax.scatter(fly_by_states[4, 0] / au, fly_by_states[4, 1] / au, color='red', label='Jupiter fly-by')\n",
    "ax.scatter(fly_by_states[5, 0] / au, fly_by_states[5, 1] / au, color='grey', label='Saturn arrival')\n",
    "ax.scatter([0], [0], color='orange', label='Sun')\n",
    "ax.set_xlabel('x wrt Sun [AU]')\n",
    "ax.set_ylabel('y wrt Sun [AU]')\n",
    "ax.set_aspect('equal')\n",
    "ax.legend(bbox_to_anchor=[1, 1])\n",
    "plt.show()"
   ]
  }
 ],
 "metadata": {
  "kernelspec": {
   "display_name": "Python 3 (ipykernel)",
   "language": "python",
   "name": "python3"
  },
  "language_info": {
   "codemirror_mode": {
    "name": "ipython",
    "version": 3
   },
   "file_extension": ".py",
   "mimetype": "text/x-python",
   "name": "python",
   "nbconvert_exporter": "python",
   "pygments_lexer": "ipython3",
   "version": "3.8.13"
  }
 },
 "nbformat": 4,
 "nbformat_minor": 5
}
